{
 "cells": [
  {
   "cell_type": "markdown",
   "metadata": {},
   "source": [
    "<p align=\"center\">\n",
    "  <img src=\"https://cdn.icon-icons.com/icons2/2592/PNG/512/spotify_logo_icon_154469.png\" width=\"200\">\n",
    "</p>\n"
   ]
  },
  {
   "cell_type": "markdown",
   "metadata": {},
   "source": [
    "# Introdução\n",
    "\n",
    "O Spotify é um serviço líder de streaming de música que revolucionou a forma como interagimos com a música. Com milhões de faixas disponíveis e uma base de usuários global, o Spotify não apenas oferece uma plataforma para artistas divulgarem suas obras, mas também gera uma quantidade imensa de dados sobre preferências musicais, tendências e hábitos de escuta. Analisar esses dados pode revelar insights valiosos sobre a indústria musical, as preferências dos ouvintes e a dinâmica do sucesso musical.\n",
    "\n",
    "Este projeto visa explorar o dataset do top hits do Spotify, utilizando poderosas bibliotecas de análise de dados, como a Polars para manipulação de dados e a Plotly para criação de visualizações interativas. Através deste estudo, buscamos entender melhor as características das músicas que alcançam o topo das paradas, identificar padrões e tendências ao longo do tempo e oferecer uma experiência visual rica que torne essas descobertas acessíveis a todos."
   ]
  },
  {
   "cell_type": "code",
   "execution_count": 1,
   "metadata": {},
   "outputs": [],
   "source": [
    "# Importação de bibliotecas para análise\n",
    "import numpy as np\n",
    "import polars as pl\n",
    "import pandas as pd\n",
    "import plotly.express as px\n",
    "\n",
    "# importação de arquivo com funções de análise\n",
    "\n",
    "import utils as ut"
   ]
  },
  {
   "cell_type": "markdown",
   "metadata": {},
   "source": [
    "## Dicionário de dados:\n",
    "\n",
    "Dicionário de dados fornecido pelo [Kraggle](https://www.kaggle.com/datasets/paradisejoy/top-hits-spotify-from-20002019)\n",
    "\n",
    "| Coluna           | Tipo de Dado | Descrição                                                                                                                                                              |\n",
    "|------------------|--------------|------------------------------------------------------------------------------------------------------------------------------------------------------------------------|\n",
    "| artist           | String       | Nome do Artista.                                                                                                                                                       |\n",
    "| song             | String       | Nome da Faixa.                                                                                                                                                         |\n",
    "| duration_ms      | Int64        | Duração da faixa em milissegundos.                                                                                                                                     |\n",
    "| explicit         | Boolean      | Indica se a letra ou conteúdo de uma música ou vídeo musical contém um ou mais critérios que podem ser considerados ofensivos ou inadequados para crianças.           |\n",
    "| year             | Int64        | Ano de lançamento da faixa.                                                                                                                                            |\n",
    "| popularity       | Int64        | Quanto maior o valor, mais popular é a música. Os valores variam de 0 a 100.                                                                                           |\n",
    "| danceability     | Float64      | Descreve quão adequada uma faixa é para dançar com base em uma combinação de elementos musicais. Um valor de 0.0 é o menos dançável e 1.0 é o mais dançável.          |\n",
    "| energy           | Float64      | Uma medida de 0.0 a 1.0 que representa uma medida perceptual de intensidade e atividade.                                                                               |\n",
    "| key              | Int64        | A tonalidade em que a faixa está. Inteiros mapeiam para notas usando a notação padrão de Classe de Altura. Por exemplo, 0 = C, 1 = C♯/D♭, etc. -1 indica sem tonalidade detectada. |\n",
    "| loudness         | Float64      | A loudness geral de uma faixa em decibéis (dB), média em toda a faixa. Os valores normalmente variam entre -60 e 0 dB.                                                 |\n",
    "| mode             | Int64        | Indica a modalidade (maior ou menor) de uma faixa, com maior representado por 1 e menor por 0.                                                                         |\n",
    "| speechiness      | Float64      | Detecta a presença de palavras faladas em uma faixa. Valores próximos a 1.0 indicam faixas que provavelmente são compostas inteiramente por palavras faladas.         |\n",
    "| acousticness     | Float64      | Uma medida de confiança de 0.0 a 1.0 de se a faixa é acústica. 1.0 representa alta confiança de que a faixa é acústica.                                                |\n",
    "| instrumentalness | Float64      | Prevê se uma faixa não contém vocais. Valores acima de 0.5 pretendem representar faixas instrumentais, mas a confiança é maior à medida que o valor se aproxima de 1.0.|\n",
    "| liveness         | Float64      | Detecta a presença de uma audiência na gravação. Valores mais altos indicam uma maior probabilidade de que a faixa tenha sido executada ao vivo.                        |\n",
    "| valence          | Float64      | Uma medida de 0.0 a 1.0 descrevendo a positividade musical transmitida por uma faixa. Faixas com alta valência soam mais positivas (ex. feliz, alegre, eufórica).      |\n",
    "| tempo            | Float64      | O tempo estimado geral de uma faixa em batidas por minuto (BPM).                                                                                                       |\n",
    "| genre            | String       | Gênero da faixa.                                                                                                                                                       |\n",
    "\n"
   ]
  },
  {
   "cell_type": "code",
   "execution_count": 2,
   "metadata": {},
   "outputs": [
    {
     "data": {
      "text/html": [
       "<div><style>\n",
       ".dataframe > thead > tr,\n",
       ".dataframe > tbody > tr {\n",
       "  text-align: right;\n",
       "  white-space: pre-wrap;\n",
       "}\n",
       "</style>\n",
       "<small>shape: (10, 18)</small><table border=\"1\" class=\"dataframe\"><thead><tr><th>artist</th><th>song</th><th>duration_ms</th><th>explicit</th><th>year</th><th>popularity</th><th>danceability</th><th>energy</th><th>key</th><th>loudness</th><th>mode</th><th>speechiness</th><th>acousticness</th><th>instrumentalness</th><th>liveness</th><th>valence</th><th>tempo</th><th>genre</th></tr><tr><td>str</td><td>str</td><td>i64</td><td>bool</td><td>i64</td><td>i64</td><td>f64</td><td>f64</td><td>i64</td><td>f64</td><td>i64</td><td>f64</td><td>f64</td><td>f64</td><td>f64</td><td>f64</td><td>f64</td><td>str</td></tr></thead><tbody><tr><td>&quot;Britney Spears…</td><td>&quot;Oops!...I Did …</td><td>211160</td><td>false</td><td>2000</td><td>77</td><td>0.751</td><td>0.834</td><td>1</td><td>-5.444</td><td>0</td><td>0.0437</td><td>0.3</td><td>0.0000177</td><td>0.355</td><td>0.894</td><td>95.053</td><td>&quot;pop&quot;</td></tr><tr><td>&quot;blink-182&quot;</td><td>&quot;All The Small …</td><td>167066</td><td>false</td><td>1999</td><td>79</td><td>0.434</td><td>0.897</td><td>0</td><td>-4.918</td><td>1</td><td>0.0488</td><td>0.0103</td><td>0.0</td><td>0.612</td><td>0.684</td><td>148.726</td><td>&quot;rock, pop&quot;</td></tr><tr><td>&quot;Faith Hill&quot;</td><td>&quot;Breathe&quot;</td><td>250546</td><td>false</td><td>1999</td><td>66</td><td>0.529</td><td>0.496</td><td>7</td><td>-9.007</td><td>1</td><td>0.029</td><td>0.173</td><td>0.0</td><td>0.251</td><td>0.278</td><td>136.859</td><td>&quot;pop, country&quot;</td></tr><tr><td>&quot;Bon Jovi&quot;</td><td>&quot;It&#x27;s My Life&quot;</td><td>224493</td><td>false</td><td>2000</td><td>78</td><td>0.551</td><td>0.913</td><td>0</td><td>-4.063</td><td>0</td><td>0.0466</td><td>0.0263</td><td>0.0000135</td><td>0.347</td><td>0.544</td><td>119.992</td><td>&quot;rock, metal&quot;</td></tr><tr><td>&quot;*NSYNC&quot;</td><td>&quot;Bye Bye Bye&quot;</td><td>200560</td><td>false</td><td>2000</td><td>65</td><td>0.614</td><td>0.928</td><td>8</td><td>-4.806</td><td>0</td><td>0.0516</td><td>0.0408</td><td>0.00104</td><td>0.0845</td><td>0.879</td><td>172.656</td><td>&quot;pop&quot;</td></tr><tr><td>&quot;Sisqo&quot;</td><td>&quot;Thong Song&quot;</td><td>253733</td><td>true</td><td>1999</td><td>69</td><td>0.706</td><td>0.888</td><td>2</td><td>-6.959</td><td>1</td><td>0.0654</td><td>0.119</td><td>0.0000964</td><td>0.07</td><td>0.714</td><td>121.549</td><td>&quot;hip hop, pop, …</td></tr><tr><td>&quot;Eminem&quot;</td><td>&quot;The Real Slim …</td><td>284200</td><td>true</td><td>2000</td><td>86</td><td>0.949</td><td>0.661</td><td>5</td><td>-4.244</td><td>0</td><td>0.0572</td><td>0.0302</td><td>0.0</td><td>0.0454</td><td>0.76</td><td>104.504</td><td>&quot;hip hop&quot;</td></tr><tr><td>&quot;Robbie William…</td><td>&quot;Rock DJ&quot;</td><td>258560</td><td>false</td><td>2000</td><td>68</td><td>0.708</td><td>0.772</td><td>7</td><td>-4.264</td><td>1</td><td>0.0322</td><td>0.0267</td><td>0.0</td><td>0.467</td><td>0.861</td><td>103.035</td><td>&quot;pop, rock&quot;</td></tr><tr><td>&quot;Destiny&#x27;s Chil…</td><td>&quot;Say My Name&quot;</td><td>271333</td><td>false</td><td>1999</td><td>75</td><td>0.713</td><td>0.678</td><td>5</td><td>-3.525</td><td>0</td><td>0.102</td><td>0.273</td><td>0.0</td><td>0.149</td><td>0.734</td><td>138.009</td><td>&quot;pop, R&amp;B&quot;</td></tr><tr><td>&quot;Modjo&quot;</td><td>&quot;Lady - Hear Me…</td><td>307153</td><td>false</td><td>2001</td><td>77</td><td>0.72</td><td>0.808</td><td>6</td><td>-5.627</td><td>1</td><td>0.0379</td><td>0.00793</td><td>0.0293</td><td>0.0634</td><td>0.869</td><td>126.041</td><td>&quot;Dance/Electron…</td></tr></tbody></table></div>"
      ],
      "text/plain": [
       "shape: (10, 18)\n",
       "┌─────────────┬────────────┬────────────┬──────────┬───┬──────────┬─────────┬─────────┬────────────┐\n",
       "│ artist      ┆ song       ┆ duration_m ┆ explicit ┆ … ┆ liveness ┆ valence ┆ tempo   ┆ genre      │\n",
       "│ ---         ┆ ---        ┆ s          ┆ ---      ┆   ┆ ---      ┆ ---     ┆ ---     ┆ ---        │\n",
       "│ str         ┆ str        ┆ ---        ┆ bool     ┆   ┆ f64      ┆ f64     ┆ f64     ┆ str        │\n",
       "│             ┆            ┆ i64        ┆          ┆   ┆          ┆         ┆         ┆            │\n",
       "╞═════════════╪════════════╪════════════╪══════════╪═══╪══════════╪═════════╪═════════╪════════════╡\n",
       "│ Britney     ┆ Oops!...I  ┆ 211160     ┆ false    ┆ … ┆ 0.355    ┆ 0.894   ┆ 95.053  ┆ pop        │\n",
       "│ Spears      ┆ Did It     ┆            ┆          ┆   ┆          ┆         ┆         ┆            │\n",
       "│             ┆ Again      ┆            ┆          ┆   ┆          ┆         ┆         ┆            │\n",
       "│ blink-182   ┆ All The    ┆ 167066     ┆ false    ┆ … ┆ 0.612    ┆ 0.684   ┆ 148.726 ┆ rock, pop  │\n",
       "│             ┆ Small      ┆            ┆          ┆   ┆          ┆         ┆         ┆            │\n",
       "│             ┆ Things     ┆            ┆          ┆   ┆          ┆         ┆         ┆            │\n",
       "│ Faith Hill  ┆ Breathe    ┆ 250546     ┆ false    ┆ … ┆ 0.251    ┆ 0.278   ┆ 136.859 ┆ pop,       │\n",
       "│             ┆            ┆            ┆          ┆   ┆          ┆         ┆         ┆ country    │\n",
       "│ Bon Jovi    ┆ It's My    ┆ 224493     ┆ false    ┆ … ┆ 0.347    ┆ 0.544   ┆ 119.992 ┆ rock,      │\n",
       "│             ┆ Life       ┆            ┆          ┆   ┆          ┆         ┆         ┆ metal      │\n",
       "│ *NSYNC      ┆ Bye Bye    ┆ 200560     ┆ false    ┆ … ┆ 0.0845   ┆ 0.879   ┆ 172.656 ┆ pop        │\n",
       "│             ┆ Bye        ┆            ┆          ┆   ┆          ┆         ┆         ┆            │\n",
       "│ Sisqo       ┆ Thong Song ┆ 253733     ┆ true     ┆ … ┆ 0.07     ┆ 0.714   ┆ 121.549 ┆ hip hop,   │\n",
       "│             ┆            ┆            ┆          ┆   ┆          ┆         ┆         ┆ pop, R&B   │\n",
       "│ Eminem      ┆ The Real   ┆ 284200     ┆ true     ┆ … ┆ 0.0454   ┆ 0.76    ┆ 104.504 ┆ hip hop    │\n",
       "│             ┆ Slim Shady ┆            ┆          ┆   ┆          ┆         ┆         ┆            │\n",
       "│ Robbie      ┆ Rock DJ    ┆ 258560     ┆ false    ┆ … ┆ 0.467    ┆ 0.861   ┆ 103.035 ┆ pop, rock  │\n",
       "│ Williams    ┆            ┆            ┆          ┆   ┆          ┆         ┆         ┆            │\n",
       "│ Destiny's   ┆ Say My     ┆ 271333     ┆ false    ┆ … ┆ 0.149    ┆ 0.734   ┆ 138.009 ┆ pop, R&B   │\n",
       "│ Child       ┆ Name       ┆            ┆          ┆   ┆          ┆         ┆         ┆            │\n",
       "│ Modjo       ┆ Lady -     ┆ 307153     ┆ false    ┆ … ┆ 0.0634   ┆ 0.869   ┆ 126.041 ┆ Dance/Elec │\n",
       "│             ┆ Hear Me    ┆            ┆          ┆   ┆          ┆         ┆         ┆ tronic     │\n",
       "│             ┆ Tonight    ┆            ┆          ┆   ┆          ┆         ┆         ┆            │\n",
       "└─────────────┴────────────┴────────────┴──────────┴───┴──────────┴─────────┴─────────┴────────────┘"
      ]
     },
     "execution_count": 2,
     "metadata": {},
     "output_type": "execute_result"
    }
   ],
   "source": [
    "# Leitura do arquivo .csv\n",
    "df = pl.read_csv('songs_normalize.csv')\n",
    "df.head(10)"
   ]
  },
  {
   "cell_type": "code",
   "execution_count": 3,
   "metadata": {},
   "outputs": [
    {
     "data": {
      "text/html": [
       "<div><style>\n",
       ".dataframe > thead > tr,\n",
       ".dataframe > tbody > tr {\n",
       "  text-align: right;\n",
       "  white-space: pre-wrap;\n",
       "}\n",
       "</style>\n",
       "<small>shape: (18, 2)</small><table border=\"1\" class=\"dataframe\"><thead><tr><th>Colunas</th><th>Quantidade de nulos</th></tr><tr><td>str</td><td>i64</td></tr></thead><tbody><tr><td>&quot;artist&quot;</td><td>0</td></tr><tr><td>&quot;song&quot;</td><td>0</td></tr><tr><td>&quot;duration_ms&quot;</td><td>0</td></tr><tr><td>&quot;explicit&quot;</td><td>0</td></tr><tr><td>&quot;year&quot;</td><td>0</td></tr><tr><td>&quot;popularity&quot;</td><td>0</td></tr><tr><td>&quot;danceability&quot;</td><td>0</td></tr><tr><td>&quot;energy&quot;</td><td>0</td></tr><tr><td>&quot;key&quot;</td><td>0</td></tr><tr><td>&quot;loudness&quot;</td><td>0</td></tr><tr><td>&quot;mode&quot;</td><td>0</td></tr><tr><td>&quot;speechiness&quot;</td><td>0</td></tr><tr><td>&quot;acousticness&quot;</td><td>0</td></tr><tr><td>&quot;instrumentalne…</td><td>0</td></tr><tr><td>&quot;liveness&quot;</td><td>0</td></tr><tr><td>&quot;valence&quot;</td><td>0</td></tr><tr><td>&quot;tempo&quot;</td><td>0</td></tr><tr><td>&quot;genre&quot;</td><td>0</td></tr></tbody></table></div>"
      ],
      "text/plain": [
       "shape: (18, 2)\n",
       "┌──────────────────┬─────────────────────┐\n",
       "│ Colunas          ┆ Quantidade de nulos │\n",
       "│ ---              ┆ ---                 │\n",
       "│ str              ┆ i64                 │\n",
       "╞══════════════════╪═════════════════════╡\n",
       "│ artist           ┆ 0                   │\n",
       "│ song             ┆ 0                   │\n",
       "│ duration_ms      ┆ 0                   │\n",
       "│ explicit         ┆ 0                   │\n",
       "│ year             ┆ 0                   │\n",
       "│ …                ┆ …                   │\n",
       "│ instrumentalness ┆ 0                   │\n",
       "│ liveness         ┆ 0                   │\n",
       "│ valence          ┆ 0                   │\n",
       "│ tempo            ┆ 0                   │\n",
       "│ genre            ┆ 0                   │\n",
       "└──────────────────┴─────────────────────┘"
      ]
     },
     "execution_count": 3,
     "metadata": {},
     "output_type": "execute_result"
    }
   ],
   "source": [
    "# Verificação de valores nulos no dataframe\n",
    "ut.nulos(df)\n"
   ]
  },
  {
   "cell_type": "code",
   "execution_count": 4,
   "metadata": {},
   "outputs": [
    {
     "name": "stdout",
     "output_type": "stream",
     "text": [
      "Quantidade de linhas únicas: 1941\n",
      "Quantidade de linhas duplicadas: 59\n"
     ]
    }
   ],
   "source": [
    "# Verificação de valores duplicados no dataframe\n",
    "ut.duplicadas(df)"
   ]
  },
  {
   "cell_type": "code",
   "execution_count": 5,
   "metadata": {},
   "outputs": [
    {
     "data": {
      "text/plain": [
       "(1941, 18)"
      ]
     },
     "execution_count": 5,
     "metadata": {},
     "output_type": "execute_result"
    }
   ],
   "source": [
    "# Remoção de valores duplicados\n",
    "\n",
    "df_unique = df.unique()\n",
    "df_unique.shape"
   ]
  },
  {
   "cell_type": "code",
   "execution_count": 6,
   "metadata": {},
   "outputs": [
    {
     "data": {
      "text/html": [
       "<div><style>\n",
       ".dataframe > thead > tr,\n",
       ".dataframe > tbody > tr {\n",
       "  text-align: right;\n",
       "  white-space: pre-wrap;\n",
       "}\n",
       "</style>\n",
       "<small>shape: (9, 15)</small><table border=\"1\" class=\"dataframe\"><thead><tr><th>statistic</th><th>duration_ms</th><th>year</th><th>popularity</th><th>danceability</th><th>energy</th><th>key</th><th>loudness</th><th>mode</th><th>speechiness</th><th>acousticness</th><th>instrumentalness</th><th>liveness</th><th>valence</th><th>tempo</th></tr><tr><td>str</td><td>f64</td><td>f64</td><td>f64</td><td>f64</td><td>f64</td><td>f64</td><td>f64</td><td>f64</td><td>f64</td><td>f64</td><td>f64</td><td>f64</td><td>f64</td><td>f64</td></tr></thead><tbody><tr><td>&quot;count&quot;</td><td>2000.0</td><td>2000.0</td><td>2000.0</td><td>2000.0</td><td>2000.0</td><td>2000.0</td><td>2000.0</td><td>2000.0</td><td>2000.0</td><td>2000.0</td><td>2000.0</td><td>2000.0</td><td>2000.0</td><td>2000.0</td></tr><tr><td>&quot;null_count&quot;</td><td>0.0</td><td>0.0</td><td>0.0</td><td>0.0</td><td>0.0</td><td>0.0</td><td>0.0</td><td>0.0</td><td>0.0</td><td>0.0</td><td>0.0</td><td>0.0</td><td>0.0</td><td>0.0</td></tr><tr><td>&quot;mean&quot;</td><td>228748.1245</td><td>2009.494</td><td>59.8725</td><td>0.6674375</td><td>0.720366</td><td>5.378</td><td>-5.512435</td><td>0.5535</td><td>0.1035677</td><td>0.128955</td><td>0.015226</td><td>0.1812158</td><td>0.55169</td><td>120.122557</td></tr><tr><td>&quot;std&quot;</td><td>39136.569008</td><td>5.85996</td><td>21.335577</td><td>0.140416</td><td>0.152745</td><td>3.615059</td><td>1.933482</td><td>0.497254</td><td>0.096159</td><td>0.173346</td><td>0.087771</td><td>0.140669</td><td>0.220864</td><td>26.967112</td></tr><tr><td>&quot;min&quot;</td><td>113000.0</td><td>1998.0</td><td>0.0</td><td>0.129</td><td>0.0549</td><td>0.0</td><td>-20.514</td><td>0.0</td><td>0.0232</td><td>0.0000192</td><td>0.0</td><td>0.0215</td><td>0.0381</td><td>60.019</td></tr><tr><td>&quot;25%&quot;</td><td>203600.0</td><td>2004.0</td><td>56.0</td><td>0.581</td><td>0.622</td><td>2.0</td><td>-6.49</td><td>0.0</td><td>0.0396</td><td>0.014</td><td>0.0</td><td>0.0881</td><td>0.387</td><td>98.986</td></tr><tr><td>&quot;50%&quot;</td><td>223293.0</td><td>2010.0</td><td>66.0</td><td>0.676</td><td>0.736</td><td>6.0</td><td>-5.285</td><td>1.0</td><td>0.0599</td><td>0.0558</td><td>0.0</td><td>0.124</td><td>0.558</td><td>120.022</td></tr><tr><td>&quot;75%&quot;</td><td>248133.0</td><td>2015.0</td><td>73.0</td><td>0.764</td><td>0.839</td><td>8.0</td><td>-4.168</td><td>1.0</td><td>0.129</td><td>0.176</td><td>0.000068</td><td>0.241</td><td>0.73</td><td>134.199</td></tr><tr><td>&quot;max&quot;</td><td>484146.0</td><td>2020.0</td><td>89.0</td><td>0.975</td><td>0.999</td><td>11.0</td><td>-0.276</td><td>1.0</td><td>0.576</td><td>0.976</td><td>0.985</td><td>0.853</td><td>0.973</td><td>210.851</td></tr></tbody></table></div>"
      ],
      "text/plain": [
       "shape: (9, 15)\n",
       "┌────────────┬───────────┬──────────┬───────────┬───┬───────────┬───────────┬──────────┬───────────┐\n",
       "│ statistic  ┆ duration_ ┆ year     ┆ popularit ┆ … ┆ instrumen ┆ liveness  ┆ valence  ┆ tempo     │\n",
       "│ ---        ┆ ms        ┆ ---      ┆ y         ┆   ┆ talness   ┆ ---       ┆ ---      ┆ ---       │\n",
       "│ str        ┆ ---       ┆ f64      ┆ ---       ┆   ┆ ---       ┆ f64       ┆ f64      ┆ f64       │\n",
       "│            ┆ f64       ┆          ┆ f64       ┆   ┆ f64       ┆           ┆          ┆           │\n",
       "╞════════════╪═══════════╪══════════╪═══════════╪═══╪═══════════╪═══════════╪══════════╪═══════════╡\n",
       "│ count      ┆ 2000.0    ┆ 2000.0   ┆ 2000.0    ┆ … ┆ 2000.0    ┆ 2000.0    ┆ 2000.0   ┆ 2000.0    │\n",
       "│ null_count ┆ 0.0       ┆ 0.0      ┆ 0.0       ┆ … ┆ 0.0       ┆ 0.0       ┆ 0.0      ┆ 0.0       │\n",
       "│ mean       ┆ 228748.12 ┆ 2009.494 ┆ 59.8725   ┆ … ┆ 0.015226  ┆ 0.1812158 ┆ 0.55169  ┆ 120.12255 │\n",
       "│            ┆ 45        ┆          ┆           ┆   ┆           ┆           ┆          ┆ 7         │\n",
       "│ std        ┆ 39136.569 ┆ 5.85996  ┆ 21.335577 ┆ … ┆ 0.087771  ┆ 0.140669  ┆ 0.220864 ┆ 26.967112 │\n",
       "│            ┆ 008       ┆          ┆           ┆   ┆           ┆           ┆          ┆           │\n",
       "│ min        ┆ 113000.0  ┆ 1998.0   ┆ 0.0       ┆ … ┆ 0.0       ┆ 0.0215    ┆ 0.0381   ┆ 60.019    │\n",
       "│ 25%        ┆ 203600.0  ┆ 2004.0   ┆ 56.0      ┆ … ┆ 0.0       ┆ 0.0881    ┆ 0.387    ┆ 98.986    │\n",
       "│ 50%        ┆ 223293.0  ┆ 2010.0   ┆ 66.0      ┆ … ┆ 0.0       ┆ 0.124     ┆ 0.558    ┆ 120.022   │\n",
       "│ 75%        ┆ 248133.0  ┆ 2015.0   ┆ 73.0      ┆ … ┆ 0.000068  ┆ 0.241     ┆ 0.73     ┆ 134.199   │\n",
       "│ max        ┆ 484146.0  ┆ 2020.0   ┆ 89.0      ┆ … ┆ 0.985     ┆ 0.853     ┆ 0.973    ┆ 210.851   │\n",
       "└────────────┴───────────┴──────────┴───────────┴───┴───────────┴───────────┴──────────┴───────────┘"
      ]
     },
     "execution_count": 6,
     "metadata": {},
     "output_type": "execute_result"
    }
   ],
   "source": [
    "# Descrição estatística do dataframe\n",
    "df_numerics = df.select([\n",
    "    pl.col(col).alias(col) for col in df.columns \n",
    "    if df[col].dtype in [pl.Float32, pl.Float64, pl.Int32, pl.Int64, pl.UInt32, pl.UInt64]\n",
    "])\n",
    "df_numerics.describe()"
   ]
  },
  {
   "cell_type": "code",
   "execution_count": 20,
   "metadata": {},
   "outputs": [
    {
     "data": {
      "application/vnd.plotly.v1+json": {
       "config": {
        "plotlyServerURL": "https://plot.ly"
       },
       "data": [
        {
         "coloraxis": "coloraxis",
         "hovertemplate": "x: %{x}<br>y: %{y}<br>color: %{z}<extra></extra>",
         "name": "0",
         "texttemplate": "%{z}",
         "type": "heatmap",
         "x": [
          "duration_ms",
          "year",
          "popularity",
          "danceability",
          "energy",
          "key",
          "loudness",
          "mode",
          "speechiness",
          "acousticness",
          "instrumentalness",
          "liveness",
          "valence",
          "tempo"
         ],
         "xaxis": "x",
         "y": [
          "duration_ms",
          "year",
          "popularity",
          "danceability",
          "energy",
          "key",
          "loudness",
          "mode",
          "speechiness",
          "acousticness",
          "instrumentalness",
          "liveness",
          "valence",
          "tempo"
         ],
         "yaxis": "y",
         "z": [
          [
           1,
           -0.3165341070413489,
           null,
           null,
           null,
           null,
           null,
           null,
           null,
           null,
           null,
           null,
           null,
           null
          ],
          [
           -0.3165341070413489,
           1,
           null,
           null,
           null,
           null,
           null,
           null,
           null,
           null,
           null,
           null,
           null,
           null
          ],
          [
           null,
           null,
           1,
           null,
           null,
           null,
           null,
           null,
           null,
           null,
           null,
           null,
           null,
           null
          ],
          [
           null,
           null,
           null,
           1,
           null,
           null,
           null,
           null,
           null,
           null,
           null,
           null,
           0.4031776456320264,
           null
          ],
          [
           null,
           null,
           null,
           null,
           0.9999999999999998,
           null,
           0.6510155228369133,
           null,
           null,
           -0.44546851774587726,
           null,
           null,
           0.3344744311237128,
           null
          ],
          [
           null,
           null,
           null,
           null,
           null,
           0.9999999999999999,
           null,
           null,
           null,
           null,
           null,
           null,
           null,
           null
          ],
          [
           null,
           null,
           null,
           null,
           0.6510155228369132,
           null,
           0.9999999999999999,
           null,
           null,
           -0.3100391797920314,
           null,
           null,
           null,
           null
          ],
          [
           null,
           null,
           null,
           null,
           null,
           null,
           null,
           0.9999999999999999,
           null,
           null,
           null,
           null,
           null,
           null
          ],
          [
           null,
           null,
           null,
           null,
           null,
           null,
           null,
           null,
           1,
           null,
           null,
           null,
           null,
           null
          ],
          [
           null,
           null,
           null,
           null,
           -0.44546851774587726,
           null,
           -0.3100391797920314,
           null,
           null,
           1,
           null,
           null,
           null,
           null
          ],
          [
           null,
           null,
           null,
           null,
           null,
           null,
           null,
           null,
           null,
           null,
           1,
           null,
           null,
           null
          ],
          [
           null,
           null,
           null,
           null,
           null,
           null,
           null,
           null,
           null,
           null,
           null,
           1,
           null,
           null
          ],
          [
           null,
           null,
           null,
           0.40317764563202646,
           0.33447443112371283,
           null,
           null,
           null,
           null,
           null,
           null,
           null,
           1,
           null
          ],
          [
           null,
           null,
           null,
           null,
           null,
           null,
           null,
           null,
           null,
           null,
           null,
           null,
           null,
           0.9999999999999999
          ]
         ]
        }
       ],
       "layout": {
        "coloraxis": {
         "colorscale": [
          [
           0,
           "rgb(247,252,245)"
          ],
          [
           0.125,
           "rgb(229,245,224)"
          ],
          [
           0.25,
           "rgb(199,233,192)"
          ],
          [
           0.375,
           "rgb(161,217,155)"
          ],
          [
           0.5,
           "rgb(116,196,118)"
          ],
          [
           0.625,
           "rgb(65,171,93)"
          ],
          [
           0.75,
           "rgb(35,139,69)"
          ],
          [
           0.875,
           "rgb(0,109,44)"
          ],
          [
           1,
           "rgb(0,68,27)"
          ]
         ]
        },
        "height": 800,
        "margin": {
         "t": 150
        },
        "template": {
         "data": {
          "bar": [
           {
            "error_x": {
             "color": "#2a3f5f"
            },
            "error_y": {
             "color": "#2a3f5f"
            },
            "marker": {
             "line": {
              "color": "#E5ECF6",
              "width": 0.5
             },
             "pattern": {
              "fillmode": "overlay",
              "size": 10,
              "solidity": 0.2
             }
            },
            "type": "bar"
           }
          ],
          "barpolar": [
           {
            "marker": {
             "line": {
              "color": "#E5ECF6",
              "width": 0.5
             },
             "pattern": {
              "fillmode": "overlay",
              "size": 10,
              "solidity": 0.2
             }
            },
            "type": "barpolar"
           }
          ],
          "carpet": [
           {
            "aaxis": {
             "endlinecolor": "#2a3f5f",
             "gridcolor": "white",
             "linecolor": "white",
             "minorgridcolor": "white",
             "startlinecolor": "#2a3f5f"
            },
            "baxis": {
             "endlinecolor": "#2a3f5f",
             "gridcolor": "white",
             "linecolor": "white",
             "minorgridcolor": "white",
             "startlinecolor": "#2a3f5f"
            },
            "type": "carpet"
           }
          ],
          "choropleth": [
           {
            "colorbar": {
             "outlinewidth": 0,
             "ticks": ""
            },
            "type": "choropleth"
           }
          ],
          "contour": [
           {
            "colorbar": {
             "outlinewidth": 0,
             "ticks": ""
            },
            "colorscale": [
             [
              0,
              "#0d0887"
             ],
             [
              0.1111111111111111,
              "#46039f"
             ],
             [
              0.2222222222222222,
              "#7201a8"
             ],
             [
              0.3333333333333333,
              "#9c179e"
             ],
             [
              0.4444444444444444,
              "#bd3786"
             ],
             [
              0.5555555555555556,
              "#d8576b"
             ],
             [
              0.6666666666666666,
              "#ed7953"
             ],
             [
              0.7777777777777778,
              "#fb9f3a"
             ],
             [
              0.8888888888888888,
              "#fdca26"
             ],
             [
              1,
              "#f0f921"
             ]
            ],
            "type": "contour"
           }
          ],
          "contourcarpet": [
           {
            "colorbar": {
             "outlinewidth": 0,
             "ticks": ""
            },
            "type": "contourcarpet"
           }
          ],
          "heatmap": [
           {
            "colorbar": {
             "outlinewidth": 0,
             "ticks": ""
            },
            "colorscale": [
             [
              0,
              "#0d0887"
             ],
             [
              0.1111111111111111,
              "#46039f"
             ],
             [
              0.2222222222222222,
              "#7201a8"
             ],
             [
              0.3333333333333333,
              "#9c179e"
             ],
             [
              0.4444444444444444,
              "#bd3786"
             ],
             [
              0.5555555555555556,
              "#d8576b"
             ],
             [
              0.6666666666666666,
              "#ed7953"
             ],
             [
              0.7777777777777778,
              "#fb9f3a"
             ],
             [
              0.8888888888888888,
              "#fdca26"
             ],
             [
              1,
              "#f0f921"
             ]
            ],
            "type": "heatmap"
           }
          ],
          "heatmapgl": [
           {
            "colorbar": {
             "outlinewidth": 0,
             "ticks": ""
            },
            "colorscale": [
             [
              0,
              "#0d0887"
             ],
             [
              0.1111111111111111,
              "#46039f"
             ],
             [
              0.2222222222222222,
              "#7201a8"
             ],
             [
              0.3333333333333333,
              "#9c179e"
             ],
             [
              0.4444444444444444,
              "#bd3786"
             ],
             [
              0.5555555555555556,
              "#d8576b"
             ],
             [
              0.6666666666666666,
              "#ed7953"
             ],
             [
              0.7777777777777778,
              "#fb9f3a"
             ],
             [
              0.8888888888888888,
              "#fdca26"
             ],
             [
              1,
              "#f0f921"
             ]
            ],
            "type": "heatmapgl"
           }
          ],
          "histogram": [
           {
            "marker": {
             "pattern": {
              "fillmode": "overlay",
              "size": 10,
              "solidity": 0.2
             }
            },
            "type": "histogram"
           }
          ],
          "histogram2d": [
           {
            "colorbar": {
             "outlinewidth": 0,
             "ticks": ""
            },
            "colorscale": [
             [
              0,
              "#0d0887"
             ],
             [
              0.1111111111111111,
              "#46039f"
             ],
             [
              0.2222222222222222,
              "#7201a8"
             ],
             [
              0.3333333333333333,
              "#9c179e"
             ],
             [
              0.4444444444444444,
              "#bd3786"
             ],
             [
              0.5555555555555556,
              "#d8576b"
             ],
             [
              0.6666666666666666,
              "#ed7953"
             ],
             [
              0.7777777777777778,
              "#fb9f3a"
             ],
             [
              0.8888888888888888,
              "#fdca26"
             ],
             [
              1,
              "#f0f921"
             ]
            ],
            "type": "histogram2d"
           }
          ],
          "histogram2dcontour": [
           {
            "colorbar": {
             "outlinewidth": 0,
             "ticks": ""
            },
            "colorscale": [
             [
              0,
              "#0d0887"
             ],
             [
              0.1111111111111111,
              "#46039f"
             ],
             [
              0.2222222222222222,
              "#7201a8"
             ],
             [
              0.3333333333333333,
              "#9c179e"
             ],
             [
              0.4444444444444444,
              "#bd3786"
             ],
             [
              0.5555555555555556,
              "#d8576b"
             ],
             [
              0.6666666666666666,
              "#ed7953"
             ],
             [
              0.7777777777777778,
              "#fb9f3a"
             ],
             [
              0.8888888888888888,
              "#fdca26"
             ],
             [
              1,
              "#f0f921"
             ]
            ],
            "type": "histogram2dcontour"
           }
          ],
          "mesh3d": [
           {
            "colorbar": {
             "outlinewidth": 0,
             "ticks": ""
            },
            "type": "mesh3d"
           }
          ],
          "parcoords": [
           {
            "line": {
             "colorbar": {
              "outlinewidth": 0,
              "ticks": ""
             }
            },
            "type": "parcoords"
           }
          ],
          "pie": [
           {
            "automargin": true,
            "type": "pie"
           }
          ],
          "scatter": [
           {
            "fillpattern": {
             "fillmode": "overlay",
             "size": 10,
             "solidity": 0.2
            },
            "type": "scatter"
           }
          ],
          "scatter3d": [
           {
            "line": {
             "colorbar": {
              "outlinewidth": 0,
              "ticks": ""
             }
            },
            "marker": {
             "colorbar": {
              "outlinewidth": 0,
              "ticks": ""
             }
            },
            "type": "scatter3d"
           }
          ],
          "scattercarpet": [
           {
            "marker": {
             "colorbar": {
              "outlinewidth": 0,
              "ticks": ""
             }
            },
            "type": "scattercarpet"
           }
          ],
          "scattergeo": [
           {
            "marker": {
             "colorbar": {
              "outlinewidth": 0,
              "ticks": ""
             }
            },
            "type": "scattergeo"
           }
          ],
          "scattergl": [
           {
            "marker": {
             "colorbar": {
              "outlinewidth": 0,
              "ticks": ""
             }
            },
            "type": "scattergl"
           }
          ],
          "scattermapbox": [
           {
            "marker": {
             "colorbar": {
              "outlinewidth": 0,
              "ticks": ""
             }
            },
            "type": "scattermapbox"
           }
          ],
          "scatterpolar": [
           {
            "marker": {
             "colorbar": {
              "outlinewidth": 0,
              "ticks": ""
             }
            },
            "type": "scatterpolar"
           }
          ],
          "scatterpolargl": [
           {
            "marker": {
             "colorbar": {
              "outlinewidth": 0,
              "ticks": ""
             }
            },
            "type": "scatterpolargl"
           }
          ],
          "scatterternary": [
           {
            "marker": {
             "colorbar": {
              "outlinewidth": 0,
              "ticks": ""
             }
            },
            "type": "scatterternary"
           }
          ],
          "surface": [
           {
            "colorbar": {
             "outlinewidth": 0,
             "ticks": ""
            },
            "colorscale": [
             [
              0,
              "#0d0887"
             ],
             [
              0.1111111111111111,
              "#46039f"
             ],
             [
              0.2222222222222222,
              "#7201a8"
             ],
             [
              0.3333333333333333,
              "#9c179e"
             ],
             [
              0.4444444444444444,
              "#bd3786"
             ],
             [
              0.5555555555555556,
              "#d8576b"
             ],
             [
              0.6666666666666666,
              "#ed7953"
             ],
             [
              0.7777777777777778,
              "#fb9f3a"
             ],
             [
              0.8888888888888888,
              "#fdca26"
             ],
             [
              1,
              "#f0f921"
             ]
            ],
            "type": "surface"
           }
          ],
          "table": [
           {
            "cells": {
             "fill": {
              "color": "#EBF0F8"
             },
             "line": {
              "color": "white"
             }
            },
            "header": {
             "fill": {
              "color": "#C8D4E3"
             },
             "line": {
              "color": "white"
             }
            },
            "type": "table"
           }
          ]
         },
         "layout": {
          "annotationdefaults": {
           "arrowcolor": "#2a3f5f",
           "arrowhead": 0,
           "arrowwidth": 1
          },
          "autotypenumbers": "strict",
          "coloraxis": {
           "colorbar": {
            "outlinewidth": 0,
            "ticks": ""
           }
          },
          "colorscale": {
           "diverging": [
            [
             0,
             "#8e0152"
            ],
            [
             0.1,
             "#c51b7d"
            ],
            [
             0.2,
             "#de77ae"
            ],
            [
             0.3,
             "#f1b6da"
            ],
            [
             0.4,
             "#fde0ef"
            ],
            [
             0.5,
             "#f7f7f7"
            ],
            [
             0.6,
             "#e6f5d0"
            ],
            [
             0.7,
             "#b8e186"
            ],
            [
             0.8,
             "#7fbc41"
            ],
            [
             0.9,
             "#4d9221"
            ],
            [
             1,
             "#276419"
            ]
           ],
           "sequential": [
            [
             0,
             "#0d0887"
            ],
            [
             0.1111111111111111,
             "#46039f"
            ],
            [
             0.2222222222222222,
             "#7201a8"
            ],
            [
             0.3333333333333333,
             "#9c179e"
            ],
            [
             0.4444444444444444,
             "#bd3786"
            ],
            [
             0.5555555555555556,
             "#d8576b"
            ],
            [
             0.6666666666666666,
             "#ed7953"
            ],
            [
             0.7777777777777778,
             "#fb9f3a"
            ],
            [
             0.8888888888888888,
             "#fdca26"
            ],
            [
             1,
             "#f0f921"
            ]
           ],
           "sequentialminus": [
            [
             0,
             "#0d0887"
            ],
            [
             0.1111111111111111,
             "#46039f"
            ],
            [
             0.2222222222222222,
             "#7201a8"
            ],
            [
             0.3333333333333333,
             "#9c179e"
            ],
            [
             0.4444444444444444,
             "#bd3786"
            ],
            [
             0.5555555555555556,
             "#d8576b"
            ],
            [
             0.6666666666666666,
             "#ed7953"
            ],
            [
             0.7777777777777778,
             "#fb9f3a"
            ],
            [
             0.8888888888888888,
             "#fdca26"
            ],
            [
             1,
             "#f0f921"
            ]
           ]
          },
          "colorway": [
           "#636efa",
           "#EF553B",
           "#00cc96",
           "#ab63fa",
           "#FFA15A",
           "#19d3f3",
           "#FF6692",
           "#B6E880",
           "#FF97FF",
           "#FECB52"
          ],
          "font": {
           "color": "#2a3f5f"
          },
          "geo": {
           "bgcolor": "white",
           "lakecolor": "white",
           "landcolor": "#E5ECF6",
           "showlakes": true,
           "showland": true,
           "subunitcolor": "white"
          },
          "hoverlabel": {
           "align": "left"
          },
          "hovermode": "closest",
          "mapbox": {
           "style": "light"
          },
          "paper_bgcolor": "white",
          "plot_bgcolor": "#E5ECF6",
          "polar": {
           "angularaxis": {
            "gridcolor": "white",
            "linecolor": "white",
            "ticks": ""
           },
           "bgcolor": "#E5ECF6",
           "radialaxis": {
            "gridcolor": "white",
            "linecolor": "white",
            "ticks": ""
           }
          },
          "scene": {
           "xaxis": {
            "backgroundcolor": "#E5ECF6",
            "gridcolor": "white",
            "gridwidth": 2,
            "linecolor": "white",
            "showbackground": true,
            "ticks": "",
            "zerolinecolor": "white"
           },
           "yaxis": {
            "backgroundcolor": "#E5ECF6",
            "gridcolor": "white",
            "gridwidth": 2,
            "linecolor": "white",
            "showbackground": true,
            "ticks": "",
            "zerolinecolor": "white"
           },
           "zaxis": {
            "backgroundcolor": "#E5ECF6",
            "gridcolor": "white",
            "gridwidth": 2,
            "linecolor": "white",
            "showbackground": true,
            "ticks": "",
            "zerolinecolor": "white"
           }
          },
          "shapedefaults": {
           "line": {
            "color": "#2a3f5f"
           }
          },
          "ternary": {
           "aaxis": {
            "gridcolor": "white",
            "linecolor": "white",
            "ticks": ""
           },
           "baxis": {
            "gridcolor": "white",
            "linecolor": "white",
            "ticks": ""
           },
           "bgcolor": "#E5ECF6",
           "caxis": {
            "gridcolor": "white",
            "linecolor": "white",
            "ticks": ""
           }
          },
          "title": {
           "x": 0.05
          },
          "xaxis": {
           "automargin": true,
           "gridcolor": "white",
           "linecolor": "white",
           "ticks": "",
           "title": {
            "standoff": 15
           },
           "zerolinecolor": "white",
           "zerolinewidth": 2
          },
          "yaxis": {
           "automargin": true,
           "gridcolor": "white",
           "linecolor": "white",
           "ticks": "",
           "title": {
            "standoff": 15
           },
           "zerolinecolor": "white",
           "zerolinewidth": 2
          }
         }
        },
        "title": {
         "font": {
          "size": 24
         },
         "text": "<b>Correlação Par-a-Par das Colunas</b>",
         "x": 0.5,
         "xanchor": "center",
         "y": 0.95,
         "yanchor": "top"
        },
        "width": 800,
        "xaxis": {
         "anchor": "y",
         "domain": [
          0,
          1
         ],
         "side": "top",
         "tickmode": "array",
         "ticktext": [
          "duration_ms",
          "year",
          "popularity",
          "danceability",
          "energy",
          "key",
          "loudness",
          "mode",
          "speechiness",
          "acousticness",
          "instrumentalness",
          "liveness",
          "valence",
          "tempo"
         ],
         "tickvals": [
          0,
          1,
          2,
          3,
          4,
          5,
          6,
          7,
          8,
          9,
          10,
          11,
          12,
          13
         ]
        },
        "yaxis": {
         "anchor": "x",
         "autorange": "reversed",
         "domain": [
          0,
          1
         ],
         "tickmode": "array",
         "ticktext": [
          "duration_ms",
          "year",
          "popularity",
          "danceability",
          "energy",
          "key",
          "loudness",
          "mode",
          "speechiness",
          "acousticness",
          "instrumentalness",
          "liveness",
          "valence",
          "tempo"
         ],
         "tickvals": [
          0,
          1,
          2,
          3,
          4,
          5,
          6,
          7,
          8,
          9,
          10,
          11,
          12,
          13
         ]
        }
       }
      }
     },
     "metadata": {},
     "output_type": "display_data"
    }
   ],
   "source": [
    "# Calculo da matriz de correlação\n",
    "corr_matrix = pd.DataFrame(df_numerics.corr(), index=df_numerics.columns, columns=df_numerics.columns)\n",
    "\n",
    "# Definição de limiar de correlação importante, foi escolhido 0,3 por...\n",
    "limiar_correlacao = 0.3\n",
    "\n",
    "# Seleciona os valores importantes deixando os outros como NaN\n",
    "corr_importantes = corr_matrix.where(np.abs(corr_matrix) > limiar_correlacao)\n",
    "\n",
    "\n",
    "# Plota a matriz de correlação filtrada\n",
    "fig = px.imshow(corr_importantes, text_auto=True, height=800, width=800,\n",
    "                color_continuous_scale=px.colors.sequential.Greens, aspect='auto',\n",
    "                title='<b>Correlação Par-a-Par das Colunas</b>',\n",
    "                )\n",
    "fig.update_layout(\n",
    "    title_x=0.5,\n",
    "    title_font_size=24,\n",
    "    xaxis=dict(tickmode='array', tickvals=np.arange(len(corr_importantes.columns)), ticktext=corr_importantes.columns.tolist()),\n",
    "    yaxis=dict(tickmode='array', tickvals=np.arange(len(corr_importantes.index)), ticktext=corr_importantes.index.tolist())\n",
    ")\n",
    "fig.update_layout(\n",
    "    title={\n",
    "        'text': \"<b>Correlação Par-a-Par das Colunas</b>\",\n",
    "        'y':0.95,\n",
    "        'x':0.5,\n",
    "        'xanchor': 'center',\n",
    "        'yanchor': 'top'\n",
    "    },\n",
    "        margin=dict(t=150)\n",
    ")\n",
    "fig.update_xaxes(side=\"top\")\n",
    "fig.show()"
   ]
  },
  {
   "cell_type": "code",
   "execution_count": 10,
   "metadata": {},
   "outputs": [
    {
     "data": {
      "text/html": [
       "<div>\n",
       "<style scoped>\n",
       "    .dataframe tbody tr th:only-of-type {\n",
       "        vertical-align: middle;\n",
       "    }\n",
       "\n",
       "    .dataframe tbody tr th {\n",
       "        vertical-align: top;\n",
       "    }\n",
       "\n",
       "    .dataframe thead th {\n",
       "        text-align: right;\n",
       "    }\n",
       "</style>\n",
       "<table border=\"1\" class=\"dataframe\">\n",
       "  <thead>\n",
       "    <tr style=\"text-align: right;\">\n",
       "      <th></th>\n",
       "      <th>0</th>\n",
       "      <th>1</th>\n",
       "      <th>2</th>\n",
       "      <th>3</th>\n",
       "      <th>4</th>\n",
       "      <th>5</th>\n",
       "      <th>6</th>\n",
       "      <th>7</th>\n",
       "      <th>8</th>\n",
       "      <th>9</th>\n",
       "      <th>10</th>\n",
       "      <th>11</th>\n",
       "      <th>12</th>\n",
       "      <th>13</th>\n",
       "    </tr>\n",
       "  </thead>\n",
       "  <tbody>\n",
       "    <tr>\n",
       "      <th>0</th>\n",
       "      <td>1.000000</td>\n",
       "      <td>-0.316534</td>\n",
       "      <td>0.050617</td>\n",
       "      <td>-0.060057</td>\n",
       "      <td>-0.078763</td>\n",
       "      <td>-0.002560</td>\n",
       "      <td>-0.079912</td>\n",
       "      <td>-0.003848</td>\n",
       "      <td>0.066998</td>\n",
       "      <td>0.010923</td>\n",
       "      <td>-0.004208</td>\n",
       "      <td>0.024941</td>\n",
       "      <td>-0.116870</td>\n",
       "      <td>-0.028603</td>\n",
       "    </tr>\n",
       "    <tr>\n",
       "      <th>1</th>\n",
       "      <td>-0.316534</td>\n",
       "      <td>1.000000</td>\n",
       "      <td>-0.003825</td>\n",
       "      <td>0.033532</td>\n",
       "      <td>-0.108644</td>\n",
       "      <td>0.007380</td>\n",
       "      <td>0.017479</td>\n",
       "      <td>-0.007358</td>\n",
       "      <td>0.001111</td>\n",
       "      <td>0.033809</td>\n",
       "      <td>-0.050265</td>\n",
       "      <td>-0.027037</td>\n",
       "      <td>-0.209365</td>\n",
       "      <td>0.076867</td>\n",
       "    </tr>\n",
       "    <tr>\n",
       "      <th>2</th>\n",
       "      <td>0.050617</td>\n",
       "      <td>-0.003825</td>\n",
       "      <td>1.000000</td>\n",
       "      <td>-0.003546</td>\n",
       "      <td>-0.014021</td>\n",
       "      <td>0.014823</td>\n",
       "      <td>0.030632</td>\n",
       "      <td>-0.021353</td>\n",
       "      <td>0.021162</td>\n",
       "      <td>0.024619</td>\n",
       "      <td>-0.048059</td>\n",
       "      <td>-0.009856</td>\n",
       "      <td>-0.016142</td>\n",
       "      <td>0.014288</td>\n",
       "    </tr>\n",
       "    <tr>\n",
       "      <th>3</th>\n",
       "      <td>-0.060057</td>\n",
       "      <td>0.033532</td>\n",
       "      <td>-0.003546</td>\n",
       "      <td>1.000000</td>\n",
       "      <td>-0.104038</td>\n",
       "      <td>0.032731</td>\n",
       "      <td>-0.033315</td>\n",
       "      <td>-0.067528</td>\n",
       "      <td>0.145590</td>\n",
       "      <td>-0.065429</td>\n",
       "      <td>0.023207</td>\n",
       "      <td>-0.126413</td>\n",
       "      <td>0.403178</td>\n",
       "      <td>-0.173418</td>\n",
       "    </tr>\n",
       "    <tr>\n",
       "      <th>4</th>\n",
       "      <td>-0.078763</td>\n",
       "      <td>-0.108644</td>\n",
       "      <td>-0.014021</td>\n",
       "      <td>-0.104038</td>\n",
       "      <td>1.000000</td>\n",
       "      <td>-0.003446</td>\n",
       "      <td>0.651016</td>\n",
       "      <td>-0.040651</td>\n",
       "      <td>-0.057018</td>\n",
       "      <td>-0.445469</td>\n",
       "      <td>0.037861</td>\n",
       "      <td>0.156761</td>\n",
       "      <td>0.334474</td>\n",
       "      <td>0.153719</td>\n",
       "    </tr>\n",
       "    <tr>\n",
       "      <th>5</th>\n",
       "      <td>-0.002560</td>\n",
       "      <td>0.007380</td>\n",
       "      <td>0.014823</td>\n",
       "      <td>0.032731</td>\n",
       "      <td>-0.003446</td>\n",
       "      <td>1.000000</td>\n",
       "      <td>-0.007474</td>\n",
       "      <td>-0.153182</td>\n",
       "      <td>0.007147</td>\n",
       "      <td>0.002365</td>\n",
       "      <td>-0.008173</td>\n",
       "      <td>-0.033071</td>\n",
       "      <td>0.036977</td>\n",
       "      <td>-0.001431</td>\n",
       "    </tr>\n",
       "    <tr>\n",
       "      <th>6</th>\n",
       "      <td>-0.079912</td>\n",
       "      <td>0.017479</td>\n",
       "      <td>0.030632</td>\n",
       "      <td>-0.033315</td>\n",
       "      <td>0.651016</td>\n",
       "      <td>-0.007474</td>\n",
       "      <td>1.000000</td>\n",
       "      <td>-0.028133</td>\n",
       "      <td>-0.076388</td>\n",
       "      <td>-0.310039</td>\n",
       "      <td>-0.104925</td>\n",
       "      <td>0.102159</td>\n",
       "      <td>0.232150</td>\n",
       "      <td>0.080709</td>\n",
       "    </tr>\n",
       "    <tr>\n",
       "      <th>7</th>\n",
       "      <td>-0.003848</td>\n",
       "      <td>-0.007358</td>\n",
       "      <td>-0.021353</td>\n",
       "      <td>-0.067528</td>\n",
       "      <td>-0.040651</td>\n",
       "      <td>-0.153182</td>\n",
       "      <td>-0.028133</td>\n",
       "      <td>1.000000</td>\n",
       "      <td>-0.000077</td>\n",
       "      <td>0.005744</td>\n",
       "      <td>-0.038613</td>\n",
       "      <td>0.025439</td>\n",
       "      <td>-0.074681</td>\n",
       "      <td>0.048434</td>\n",
       "    </tr>\n",
       "    <tr>\n",
       "      <th>8</th>\n",
       "      <td>0.066998</td>\n",
       "      <td>0.001111</td>\n",
       "      <td>0.021162</td>\n",
       "      <td>0.145590</td>\n",
       "      <td>-0.057018</td>\n",
       "      <td>0.007147</td>\n",
       "      <td>-0.076388</td>\n",
       "      <td>-0.000077</td>\n",
       "      <td>1.000000</td>\n",
       "      <td>0.000394</td>\n",
       "      <td>-0.062954</td>\n",
       "      <td>0.061172</td>\n",
       "      <td>0.073605</td>\n",
       "      <td>0.057747</td>\n",
       "    </tr>\n",
       "    <tr>\n",
       "      <th>9</th>\n",
       "      <td>0.010923</td>\n",
       "      <td>0.033809</td>\n",
       "      <td>0.024619</td>\n",
       "      <td>-0.065429</td>\n",
       "      <td>-0.445469</td>\n",
       "      <td>0.002365</td>\n",
       "      <td>-0.310039</td>\n",
       "      <td>0.005744</td>\n",
       "      <td>0.000394</td>\n",
       "      <td>1.000000</td>\n",
       "      <td>-0.005214</td>\n",
       "      <td>-0.110043</td>\n",
       "      <td>-0.128128</td>\n",
       "      <td>-0.103660</td>\n",
       "    </tr>\n",
       "    <tr>\n",
       "      <th>10</th>\n",
       "      <td>-0.004208</td>\n",
       "      <td>-0.050265</td>\n",
       "      <td>-0.048059</td>\n",
       "      <td>0.023207</td>\n",
       "      <td>0.037861</td>\n",
       "      <td>-0.008173</td>\n",
       "      <td>-0.104925</td>\n",
       "      <td>-0.038613</td>\n",
       "      <td>-0.062954</td>\n",
       "      <td>-0.005214</td>\n",
       "      <td>1.000000</td>\n",
       "      <td>-0.034897</td>\n",
       "      <td>-0.015192</td>\n",
       "      <td>0.034608</td>\n",
       "    </tr>\n",
       "    <tr>\n",
       "      <th>11</th>\n",
       "      <td>0.024941</td>\n",
       "      <td>-0.027037</td>\n",
       "      <td>-0.009856</td>\n",
       "      <td>-0.126413</td>\n",
       "      <td>0.156761</td>\n",
       "      <td>-0.033071</td>\n",
       "      <td>0.102159</td>\n",
       "      <td>0.025439</td>\n",
       "      <td>0.061172</td>\n",
       "      <td>-0.110043</td>\n",
       "      <td>-0.034897</td>\n",
       "      <td>1.000000</td>\n",
       "      <td>0.019040</td>\n",
       "      <td>0.028636</td>\n",
       "    </tr>\n",
       "    <tr>\n",
       "      <th>12</th>\n",
       "      <td>-0.116870</td>\n",
       "      <td>-0.209365</td>\n",
       "      <td>-0.016142</td>\n",
       "      <td>0.403178</td>\n",
       "      <td>0.334474</td>\n",
       "      <td>0.036977</td>\n",
       "      <td>0.232150</td>\n",
       "      <td>-0.074681</td>\n",
       "      <td>0.073605</td>\n",
       "      <td>-0.128128</td>\n",
       "      <td>-0.015192</td>\n",
       "      <td>0.019040</td>\n",
       "      <td>1.000000</td>\n",
       "      <td>-0.025076</td>\n",
       "    </tr>\n",
       "    <tr>\n",
       "      <th>13</th>\n",
       "      <td>-0.028603</td>\n",
       "      <td>0.076867</td>\n",
       "      <td>0.014288</td>\n",
       "      <td>-0.173418</td>\n",
       "      <td>0.153719</td>\n",
       "      <td>-0.001431</td>\n",
       "      <td>0.080709</td>\n",
       "      <td>0.048434</td>\n",
       "      <td>0.057747</td>\n",
       "      <td>-0.103660</td>\n",
       "      <td>0.034608</td>\n",
       "      <td>0.028636</td>\n",
       "      <td>-0.025076</td>\n",
       "      <td>1.000000</td>\n",
       "    </tr>\n",
       "  </tbody>\n",
       "</table>\n",
       "</div>"
      ],
      "text/plain": [
       "          0         1         2         3         4         5         6   \\\n",
       "0   1.000000 -0.316534  0.050617 -0.060057 -0.078763 -0.002560 -0.079912   \n",
       "1  -0.316534  1.000000 -0.003825  0.033532 -0.108644  0.007380  0.017479   \n",
       "2   0.050617 -0.003825  1.000000 -0.003546 -0.014021  0.014823  0.030632   \n",
       "3  -0.060057  0.033532 -0.003546  1.000000 -0.104038  0.032731 -0.033315   \n",
       "4  -0.078763 -0.108644 -0.014021 -0.104038  1.000000 -0.003446  0.651016   \n",
       "5  -0.002560  0.007380  0.014823  0.032731 -0.003446  1.000000 -0.007474   \n",
       "6  -0.079912  0.017479  0.030632 -0.033315  0.651016 -0.007474  1.000000   \n",
       "7  -0.003848 -0.007358 -0.021353 -0.067528 -0.040651 -0.153182 -0.028133   \n",
       "8   0.066998  0.001111  0.021162  0.145590 -0.057018  0.007147 -0.076388   \n",
       "9   0.010923  0.033809  0.024619 -0.065429 -0.445469  0.002365 -0.310039   \n",
       "10 -0.004208 -0.050265 -0.048059  0.023207  0.037861 -0.008173 -0.104925   \n",
       "11  0.024941 -0.027037 -0.009856 -0.126413  0.156761 -0.033071  0.102159   \n",
       "12 -0.116870 -0.209365 -0.016142  0.403178  0.334474  0.036977  0.232150   \n",
       "13 -0.028603  0.076867  0.014288 -0.173418  0.153719 -0.001431  0.080709   \n",
       "\n",
       "          7         8         9         10        11        12        13  \n",
       "0  -0.003848  0.066998  0.010923 -0.004208  0.024941 -0.116870 -0.028603  \n",
       "1  -0.007358  0.001111  0.033809 -0.050265 -0.027037 -0.209365  0.076867  \n",
       "2  -0.021353  0.021162  0.024619 -0.048059 -0.009856 -0.016142  0.014288  \n",
       "3  -0.067528  0.145590 -0.065429  0.023207 -0.126413  0.403178 -0.173418  \n",
       "4  -0.040651 -0.057018 -0.445469  0.037861  0.156761  0.334474  0.153719  \n",
       "5  -0.153182  0.007147  0.002365 -0.008173 -0.033071  0.036977 -0.001431  \n",
       "6  -0.028133 -0.076388 -0.310039 -0.104925  0.102159  0.232150  0.080709  \n",
       "7   1.000000 -0.000077  0.005744 -0.038613  0.025439 -0.074681  0.048434  \n",
       "8  -0.000077  1.000000  0.000394 -0.062954  0.061172  0.073605  0.057747  \n",
       "9   0.005744  0.000394  1.000000 -0.005214 -0.110043 -0.128128 -0.103660  \n",
       "10 -0.038613 -0.062954 -0.005214  1.000000 -0.034897 -0.015192  0.034608  \n",
       "11  0.025439  0.061172 -0.110043 -0.034897  1.000000  0.019040  0.028636  \n",
       "12 -0.074681  0.073605 -0.128128 -0.015192  0.019040  1.000000 -0.025076  \n",
       "13  0.048434  0.057747 -0.103660  0.034608  0.028636 -0.025076  1.000000  "
      ]
     },
     "execution_count": 10,
     "metadata": {},
     "output_type": "execute_result"
    }
   ],
   "source": [
    "corr_matrix"
   ]
  },
  {
   "cell_type": "code",
   "execution_count": null,
   "metadata": {},
   "outputs": [],
   "source": []
  }
 ],
 "metadata": {
  "kernelspec": {
   "display_name": "Python 3",
   "language": "python",
   "name": "python3"
  },
  "language_info": {
   "codemirror_mode": {
    "name": "ipython",
    "version": 3
   },
   "file_extension": ".py",
   "mimetype": "text/x-python",
   "name": "python",
   "nbconvert_exporter": "python",
   "pygments_lexer": "ipython3",
   "version": "3.12.1"
  }
 },
 "nbformat": 4,
 "nbformat_minor": 2
}
