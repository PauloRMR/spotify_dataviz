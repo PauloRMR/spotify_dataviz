{
 "cells": [
  {
   "cell_type": "markdown",
   "metadata": {},
   "source": [
    "<p align=\"center\">\n",
    "  <img src=\"https://cdn.icon-icons.com/icons2/2592/PNG/512/spotify_logo_icon_154469.png\" width=\"200\">\n",
    "</p>\n"
   ]
  },
  {
   "cell_type": "markdown",
   "metadata": {},
   "source": [
    "# Introdução\n",
    "\n",
    "O Spotify é um serviço líder de streaming de música que revolucionou a forma como interagimos com a música. Com milhões de faixas disponíveis e uma base de usuários global, o Spotify não apenas oferece uma plataforma para artistas divulgarem suas obras, mas também gera uma quantidade imensa de dados sobre preferências musicais, tendências e hábitos de escuta. Analisar esses dados pode revelar insights valiosos sobre a indústria musical, as preferências dos ouvintes e a dinâmica do sucesso musical.\n",
    "\n",
    "Este projeto visa explorar o dataset do top hits do Spotify, utilizando poderosas bibliotecas de análise de dados, como a Polars para manipulação de dados e a Plotly para criação de visualizações interativas. Através deste estudo, buscamos entender melhor as características das músicas que alcançam o topo das paradas, identificar padrões e tendências ao longo do tempo e oferecer uma experiência visual rica que torne essas descobertas acessíveis a todos."
   ]
  },
  {
   "cell_type": "code",
   "execution_count": 5,
   "metadata": {},
   "outputs": [],
   "source": [
    "# Importação de bibliotecas para análise\n",
    "\n",
    "import polars as pl\n",
    "import plotly.express as px\n",
    "\n",
    "# importação de arquivo com funções de análise\n",
    "\n",
    "import utils as ut"
   ]
  },
  {
   "cell_type": "markdown",
   "metadata": {},
   "source": [
    "## Dicionário de dados:\n",
    "\n",
    "Dicionário de dados fornecido pelo [Kraggle](https://www.kaggle.com/datasets/paradisejoy/top-hits-spotify-from-20002019)\n",
    "\n",
    "| Coluna           | Tipo de Dado | Descrição                                                                                                                                                              |\n",
    "|------------------|--------------|------------------------------------------------------------------------------------------------------------------------------------------------------------------------|\n",
    "| artist           | String       | Nome do Artista.                                                                                                                                                       |\n",
    "| song             | String       | Nome da Faixa.                                                                                                                                                         |\n",
    "| duration_ms      | Int64        | Duração da faixa em milissegundos.                                                                                                                                     |\n",
    "| explicit         | Boolean      | Indica se a letra ou conteúdo de uma música ou vídeo musical contém um ou mais critérios que podem ser considerados ofensivos ou inadequados para crianças.           |\n",
    "| year             | Int64        | Ano de lançamento da faixa.                                                                                                                                            |\n",
    "| popularity       | Int64        | Quanto maior o valor, mais popular é a música. Os valores variam de 0 a 100.                                                                                           |\n",
    "| danceability     | Float64      | Descreve quão adequada uma faixa é para dançar com base em uma combinação de elementos musicais. Um valor de 0.0 é o menos dançável e 1.0 é o mais dançável.          |\n",
    "| energy           | Float64      | Uma medida de 0.0 a 1.0 que representa uma medida perceptual de intensidade e atividade.                                                                               |\n",
    "| key              | Int64        | A tonalidade em que a faixa está. Inteiros mapeiam para notas usando a notação padrão de Classe de Altura. Por exemplo, 0 = C, 1 = C♯/D♭, etc. -1 indica sem tonalidade detectada. |\n",
    "| loudness         | Float64      | A loudness geral de uma faixa em decibéis (dB), média em toda a faixa. Os valores normalmente variam entre -60 e 0 dB.                                                 |\n",
    "| mode             | Int64        | Indica a modalidade (maior ou menor) de uma faixa, com maior representado por 1 e menor por 0.                                                                         |\n",
    "| speechiness      | Float64      | Detecta a presença de palavras faladas em uma faixa. Valores próximos a 1.0 indicam faixas que provavelmente são compostas inteiramente por palavras faladas.         |\n",
    "| acousticness     | Float64      | Uma medida de confiança de 0.0 a 1.0 de se a faixa é acústica. 1.0 representa alta confiança de que a faixa é acústica.                                                |\n",
    "| instrumentalness | Float64      | Prevê se uma faixa não contém vocais. Valores acima de 0.5 pretendem representar faixas instrumentais, mas a confiança é maior à medida que o valor se aproxima de 1.0.|\n",
    "| liveness         | Float64      | Detecta a presença de uma audiência na gravação. Valores mais altos indicam uma maior probabilidade de que a faixa tenha sido executada ao vivo.                        |\n",
    "| valence          | Float64      | Uma medida de 0.0 a 1.0 descrevendo a positividade musical transmitida por uma faixa. Faixas com alta valência soam mais positivas (ex. feliz, alegre, eufórica).      |\n",
    "| tempo            | Float64      | O tempo estimado geral de uma faixa em batidas por minuto (BPM).                                                                                                       |\n",
    "| genre            | String       | Gênero da faixa.                                                                                                                                                       |\n",
    "\n"
   ]
  },
  {
   "cell_type": "code",
   "execution_count": 2,
   "metadata": {},
   "outputs": [
    {
     "data": {
      "text/html": [
       "<div><style>\n",
       ".dataframe > thead > tr,\n",
       ".dataframe > tbody > tr {\n",
       "  text-align: right;\n",
       "  white-space: pre-wrap;\n",
       "}\n",
       "</style>\n",
       "<small>shape: (10, 18)</small><table border=\"1\" class=\"dataframe\"><thead><tr><th>artist</th><th>song</th><th>duration_ms</th><th>explicit</th><th>year</th><th>popularity</th><th>danceability</th><th>energy</th><th>key</th><th>loudness</th><th>mode</th><th>speechiness</th><th>acousticness</th><th>instrumentalness</th><th>liveness</th><th>valence</th><th>tempo</th><th>genre</th></tr><tr><td>str</td><td>str</td><td>i64</td><td>bool</td><td>i64</td><td>i64</td><td>f64</td><td>f64</td><td>i64</td><td>f64</td><td>i64</td><td>f64</td><td>f64</td><td>f64</td><td>f64</td><td>f64</td><td>f64</td><td>str</td></tr></thead><tbody><tr><td>&quot;Britney Spears…</td><td>&quot;Oops!...I Did …</td><td>211160</td><td>false</td><td>2000</td><td>77</td><td>0.751</td><td>0.834</td><td>1</td><td>-5.444</td><td>0</td><td>0.0437</td><td>0.3</td><td>0.0000177</td><td>0.355</td><td>0.894</td><td>95.053</td><td>&quot;pop&quot;</td></tr><tr><td>&quot;blink-182&quot;</td><td>&quot;All The Small …</td><td>167066</td><td>false</td><td>1999</td><td>79</td><td>0.434</td><td>0.897</td><td>0</td><td>-4.918</td><td>1</td><td>0.0488</td><td>0.0103</td><td>0.0</td><td>0.612</td><td>0.684</td><td>148.726</td><td>&quot;rock, pop&quot;</td></tr><tr><td>&quot;Faith Hill&quot;</td><td>&quot;Breathe&quot;</td><td>250546</td><td>false</td><td>1999</td><td>66</td><td>0.529</td><td>0.496</td><td>7</td><td>-9.007</td><td>1</td><td>0.029</td><td>0.173</td><td>0.0</td><td>0.251</td><td>0.278</td><td>136.859</td><td>&quot;pop, country&quot;</td></tr><tr><td>&quot;Bon Jovi&quot;</td><td>&quot;It&#x27;s My Life&quot;</td><td>224493</td><td>false</td><td>2000</td><td>78</td><td>0.551</td><td>0.913</td><td>0</td><td>-4.063</td><td>0</td><td>0.0466</td><td>0.0263</td><td>0.0000135</td><td>0.347</td><td>0.544</td><td>119.992</td><td>&quot;rock, metal&quot;</td></tr><tr><td>&quot;*NSYNC&quot;</td><td>&quot;Bye Bye Bye&quot;</td><td>200560</td><td>false</td><td>2000</td><td>65</td><td>0.614</td><td>0.928</td><td>8</td><td>-4.806</td><td>0</td><td>0.0516</td><td>0.0408</td><td>0.00104</td><td>0.0845</td><td>0.879</td><td>172.656</td><td>&quot;pop&quot;</td></tr><tr><td>&quot;Sisqo&quot;</td><td>&quot;Thong Song&quot;</td><td>253733</td><td>true</td><td>1999</td><td>69</td><td>0.706</td><td>0.888</td><td>2</td><td>-6.959</td><td>1</td><td>0.0654</td><td>0.119</td><td>0.0000964</td><td>0.07</td><td>0.714</td><td>121.549</td><td>&quot;hip hop, pop, …</td></tr><tr><td>&quot;Eminem&quot;</td><td>&quot;The Real Slim …</td><td>284200</td><td>true</td><td>2000</td><td>86</td><td>0.949</td><td>0.661</td><td>5</td><td>-4.244</td><td>0</td><td>0.0572</td><td>0.0302</td><td>0.0</td><td>0.0454</td><td>0.76</td><td>104.504</td><td>&quot;hip hop&quot;</td></tr><tr><td>&quot;Robbie William…</td><td>&quot;Rock DJ&quot;</td><td>258560</td><td>false</td><td>2000</td><td>68</td><td>0.708</td><td>0.772</td><td>7</td><td>-4.264</td><td>1</td><td>0.0322</td><td>0.0267</td><td>0.0</td><td>0.467</td><td>0.861</td><td>103.035</td><td>&quot;pop, rock&quot;</td></tr><tr><td>&quot;Destiny&#x27;s Chil…</td><td>&quot;Say My Name&quot;</td><td>271333</td><td>false</td><td>1999</td><td>75</td><td>0.713</td><td>0.678</td><td>5</td><td>-3.525</td><td>0</td><td>0.102</td><td>0.273</td><td>0.0</td><td>0.149</td><td>0.734</td><td>138.009</td><td>&quot;pop, R&amp;B&quot;</td></tr><tr><td>&quot;Modjo&quot;</td><td>&quot;Lady - Hear Me…</td><td>307153</td><td>false</td><td>2001</td><td>77</td><td>0.72</td><td>0.808</td><td>6</td><td>-5.627</td><td>1</td><td>0.0379</td><td>0.00793</td><td>0.0293</td><td>0.0634</td><td>0.869</td><td>126.041</td><td>&quot;Dance/Electron…</td></tr></tbody></table></div>"
      ],
      "text/plain": [
       "shape: (10, 18)\n",
       "┌─────────────┬────────────┬────────────┬──────────┬───┬──────────┬─────────┬─────────┬────────────┐\n",
       "│ artist      ┆ song       ┆ duration_m ┆ explicit ┆ … ┆ liveness ┆ valence ┆ tempo   ┆ genre      │\n",
       "│ ---         ┆ ---        ┆ s          ┆ ---      ┆   ┆ ---      ┆ ---     ┆ ---     ┆ ---        │\n",
       "│ str         ┆ str        ┆ ---        ┆ bool     ┆   ┆ f64      ┆ f64     ┆ f64     ┆ str        │\n",
       "│             ┆            ┆ i64        ┆          ┆   ┆          ┆         ┆         ┆            │\n",
       "╞═════════════╪════════════╪════════════╪══════════╪═══╪══════════╪═════════╪═════════╪════════════╡\n",
       "│ Britney     ┆ Oops!...I  ┆ 211160     ┆ false    ┆ … ┆ 0.355    ┆ 0.894   ┆ 95.053  ┆ pop        │\n",
       "│ Spears      ┆ Did It     ┆            ┆          ┆   ┆          ┆         ┆         ┆            │\n",
       "│             ┆ Again      ┆            ┆          ┆   ┆          ┆         ┆         ┆            │\n",
       "│ blink-182   ┆ All The    ┆ 167066     ┆ false    ┆ … ┆ 0.612    ┆ 0.684   ┆ 148.726 ┆ rock, pop  │\n",
       "│             ┆ Small      ┆            ┆          ┆   ┆          ┆         ┆         ┆            │\n",
       "│             ┆ Things     ┆            ┆          ┆   ┆          ┆         ┆         ┆            │\n",
       "│ Faith Hill  ┆ Breathe    ┆ 250546     ┆ false    ┆ … ┆ 0.251    ┆ 0.278   ┆ 136.859 ┆ pop,       │\n",
       "│             ┆            ┆            ┆          ┆   ┆          ┆         ┆         ┆ country    │\n",
       "│ Bon Jovi    ┆ It's My    ┆ 224493     ┆ false    ┆ … ┆ 0.347    ┆ 0.544   ┆ 119.992 ┆ rock,      │\n",
       "│             ┆ Life       ┆            ┆          ┆   ┆          ┆         ┆         ┆ metal      │\n",
       "│ *NSYNC      ┆ Bye Bye    ┆ 200560     ┆ false    ┆ … ┆ 0.0845   ┆ 0.879   ┆ 172.656 ┆ pop        │\n",
       "│             ┆ Bye        ┆            ┆          ┆   ┆          ┆         ┆         ┆            │\n",
       "│ Sisqo       ┆ Thong Song ┆ 253733     ┆ true     ┆ … ┆ 0.07     ┆ 0.714   ┆ 121.549 ┆ hip hop,   │\n",
       "│             ┆            ┆            ┆          ┆   ┆          ┆         ┆         ┆ pop, R&B   │\n",
       "│ Eminem      ┆ The Real   ┆ 284200     ┆ true     ┆ … ┆ 0.0454   ┆ 0.76    ┆ 104.504 ┆ hip hop    │\n",
       "│             ┆ Slim Shady ┆            ┆          ┆   ┆          ┆         ┆         ┆            │\n",
       "│ Robbie      ┆ Rock DJ    ┆ 258560     ┆ false    ┆ … ┆ 0.467    ┆ 0.861   ┆ 103.035 ┆ pop, rock  │\n",
       "│ Williams    ┆            ┆            ┆          ┆   ┆          ┆         ┆         ┆            │\n",
       "│ Destiny's   ┆ Say My     ┆ 271333     ┆ false    ┆ … ┆ 0.149    ┆ 0.734   ┆ 138.009 ┆ pop, R&B   │\n",
       "│ Child       ┆ Name       ┆            ┆          ┆   ┆          ┆         ┆         ┆            │\n",
       "│ Modjo       ┆ Lady -     ┆ 307153     ┆ false    ┆ … ┆ 0.0634   ┆ 0.869   ┆ 126.041 ┆ Dance/Elec │\n",
       "│             ┆ Hear Me    ┆            ┆          ┆   ┆          ┆         ┆         ┆ tronic     │\n",
       "│             ┆ Tonight    ┆            ┆          ┆   ┆          ┆         ┆         ┆            │\n",
       "└─────────────┴────────────┴────────────┴──────────┴───┴──────────┴─────────┴─────────┴────────────┘"
      ]
     },
     "execution_count": 2,
     "metadata": {},
     "output_type": "execute_result"
    }
   ],
   "source": [
    "# Leitura do arquivo .csv\n",
    "df = pl.read_csv('songs_normalize.csv')\n",
    "df.head(10)"
   ]
  },
  {
   "cell_type": "code",
   "execution_count": 3,
   "metadata": {},
   "outputs": [
    {
     "data": {
      "text/html": [
       "<div><style>\n",
       ".dataframe > thead > tr,\n",
       ".dataframe > tbody > tr {\n",
       "  text-align: right;\n",
       "  white-space: pre-wrap;\n",
       "}\n",
       "</style>\n",
       "<small>shape: (18, 2)</small><table border=\"1\" class=\"dataframe\"><thead><tr><th>Colunas</th><th>Quantidade de nulos</th></tr><tr><td>str</td><td>i64</td></tr></thead><tbody><tr><td>&quot;artist&quot;</td><td>0</td></tr><tr><td>&quot;song&quot;</td><td>0</td></tr><tr><td>&quot;duration_ms&quot;</td><td>0</td></tr><tr><td>&quot;explicit&quot;</td><td>0</td></tr><tr><td>&quot;year&quot;</td><td>0</td></tr><tr><td>&quot;popularity&quot;</td><td>0</td></tr><tr><td>&quot;danceability&quot;</td><td>0</td></tr><tr><td>&quot;energy&quot;</td><td>0</td></tr><tr><td>&quot;key&quot;</td><td>0</td></tr><tr><td>&quot;loudness&quot;</td><td>0</td></tr><tr><td>&quot;mode&quot;</td><td>0</td></tr><tr><td>&quot;speechiness&quot;</td><td>0</td></tr><tr><td>&quot;acousticness&quot;</td><td>0</td></tr><tr><td>&quot;instrumentalne…</td><td>0</td></tr><tr><td>&quot;liveness&quot;</td><td>0</td></tr><tr><td>&quot;valence&quot;</td><td>0</td></tr><tr><td>&quot;tempo&quot;</td><td>0</td></tr><tr><td>&quot;genre&quot;</td><td>0</td></tr></tbody></table></div>"
      ],
      "text/plain": [
       "shape: (18, 2)\n",
       "┌──────────────────┬─────────────────────┐\n",
       "│ Colunas          ┆ Quantidade de nulos │\n",
       "│ ---              ┆ ---                 │\n",
       "│ str              ┆ i64                 │\n",
       "╞══════════════════╪═════════════════════╡\n",
       "│ artist           ┆ 0                   │\n",
       "│ song             ┆ 0                   │\n",
       "│ duration_ms      ┆ 0                   │\n",
       "│ explicit         ┆ 0                   │\n",
       "│ year             ┆ 0                   │\n",
       "│ …                ┆ …                   │\n",
       "│ instrumentalness ┆ 0                   │\n",
       "│ liveness         ┆ 0                   │\n",
       "│ valence          ┆ 0                   │\n",
       "│ tempo            ┆ 0                   │\n",
       "│ genre            ┆ 0                   │\n",
       "└──────────────────┴─────────────────────┘"
      ]
     },
     "execution_count": 3,
     "metadata": {},
     "output_type": "execute_result"
    }
   ],
   "source": [
    "# Verificação de valores nulos no dataframe\n",
    "ut.nulos(df)\n"
   ]
  },
  {
   "cell_type": "code",
   "execution_count": 4,
   "metadata": {},
   "outputs": [
    {
     "name": "stdout",
     "output_type": "stream",
     "text": [
      "Quantidade de linhas únicas: 1941\n",
      "Quantidade de linhas duplicadas: 59\n"
     ]
    }
   ],
   "source": [
    "# Verificação de valores duplicados no dataframe\n",
    "ut.duplicadas(df)"
   ]
  },
  {
   "cell_type": "code",
   "execution_count": 9,
   "metadata": {},
   "outputs": [
    {
     "data": {
      "text/plain": [
       "(1941, 18)"
      ]
     },
     "execution_count": 9,
     "metadata": {},
     "output_type": "execute_result"
    }
   ],
   "source": [
    "# Remoção de valores duplicados\n",
    "\n",
    "df_unique = df.unique()\n",
    "df_unique.shape"
   ]
  },
  {
   "cell_type": "code",
   "execution_count": null,
   "metadata": {},
   "outputs": [],
   "source": []
  }
 ],
 "metadata": {
  "kernelspec": {
   "display_name": "Python 3",
   "language": "python",
   "name": "python3"
  },
  "language_info": {
   "codemirror_mode": {
    "name": "ipython",
    "version": 3
   },
   "file_extension": ".py",
   "mimetype": "text/x-python",
   "name": "python",
   "nbconvert_exporter": "python",
   "pygments_lexer": "ipython3",
   "version": "3.12.1"
  }
 },
 "nbformat": 4,
 "nbformat_minor": 2
}
